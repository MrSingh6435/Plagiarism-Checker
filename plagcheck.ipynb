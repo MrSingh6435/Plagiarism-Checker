{
  "nbformat": 4,
  "nbformat_minor": 0,
  "metadata": {
    "colab": {
      "provenance": [],
      "include_colab_link": true
    },
    "kernelspec": {
      "name": "python3",
      "display_name": "Python 3"
    },
    "language_info": {
      "name": "python"
    }
  },
  "cells": [
    {
      "cell_type": "markdown",
      "metadata": {
        "id": "view-in-github",
        "colab_type": "text"
      },
      "source": [
        "<a href=\"https://colab.research.google.com/github/MrSingh6435/Plagiarism-Checker/blob/main/plagcheck.ipynb\" target=\"_parent\"><img src=\"https://colab.research.google.com/assets/colab-badge.svg\" alt=\"Open In Colab\"/></a>"
      ]
    },
    {
      "cell_type": "code",
      "source": [
        "# Import necessary modules!\n",
        "import os  # Module for interacting with the operating system\n",
        "from sklearn.feature_extraction.text import TfidfVectorizer  # Module for text vectorization using TF-IDF\n",
        "from sklearn.metrics.pairwise import cosine_similarity  # Module for calculating cosine similarity"
      ],
      "metadata": {
        "id": "uLm3H2vXyqPQ"
      },
      "execution_count": 1,
      "outputs": []
    },
    {
      "cell_type": "code",
      "source": [
        "# Get a list of all text files in the current directory\n",
        "student_files = [doc for doc in os.listdir() if doc.endswith('.txt')]"
      ],
      "metadata": {
        "id": "3pYT_cgZyrbm"
      },
      "execution_count": 2,
      "outputs": []
    },
    {
      "cell_type": "code",
      "source": [
        "# Read the contents of each student's text file\n",
        "student_notes = [open(_file, encoding='utf-8').read() for _file in student_files]"
      ],
      "metadata": {
        "id": "5QpLioBaytjQ"
      },
      "execution_count": 3,
      "outputs": []
    },
    {
      "cell_type": "code",
      "source": [
        "# Function to vectorize the text using TF-IDF\n",
        "def vectorize(Text):\n",
        "    return TfidfVectorizer().fit_transform(Text).toarray()"
      ],
      "metadata": {
        "id": "3SYJK4Geywgo"
      },
      "execution_count": 4,
      "outputs": []
    },
    {
      "cell_type": "code",
      "source": [
        "# Function to calculate cosine similarity between two documents\n",
        "def similarity(doc1, doc2):\n",
        "    return cosine_similarity([doc1, doc2])"
      ],
      "metadata": {
        "id": "wJZCYdBpyxIW"
      },
      "execution_count": 5,
      "outputs": []
    },
    {
      "cell_type": "code",
      "source": [
        "!pip install scikit-learn\n"
      ],
      "metadata": {
        "colab": {
          "base_uri": "https://localhost:8080/"
        },
        "id": "Z88bX5IuGmB8",
        "outputId": "552ab642-49ea-4955-cfa7-de87111b4fdd"
      },
      "execution_count": 11,
      "outputs": [
        {
          "output_type": "stream",
          "name": "stdout",
          "text": [
            "Requirement already satisfied: scikit-learn in /usr/local/lib/python3.10/dist-packages (1.2.2)\n",
            "Requirement already satisfied: numpy>=1.17.3 in /usr/local/lib/python3.10/dist-packages (from scikit-learn) (1.25.2)\n",
            "Requirement already satisfied: scipy>=1.3.2 in /usr/local/lib/python3.10/dist-packages (from scikit-learn) (1.11.4)\n",
            "Requirement already satisfied: joblib>=1.1.1 in /usr/local/lib/python3.10/dist-packages (from scikit-learn) (1.4.2)\n",
            "Requirement already satisfied: threadpoolctl>=2.0.0 in /usr/local/lib/python3.10/dist-packages (from scikit-learn) (3.5.0)\n"
          ]
        }
      ]
    },
    {
      "cell_type": "code",
      "source": [
        "# Vectorize the student notes using TF-IDF\n",
        "# vectors = vectorize(student_notes)\n",
        "# s_vectors = list(zip(student_files, vectors))\n",
        "# plagiarism_results = set()\n",
        "\n",
        "\n",
        "\n",
        "import re\n",
        "from sklearn.feature_extraction.text import TfidfVectorizer\n",
        "\n",
        "# Sample student notes (replace with your actual data)\n",
        "student_notes = [\n",
        "    \"This is the first student note.\",\n",
        "    \"Here is another student note.\",\n",
        "    \"\",  # This is an empty note\n",
        "    \"   \",  # This is a note with only spaces\n",
        "    \"Just some common stop words a the an and.\",  # This note might be problematic\n",
        "]\n",
        "\n",
        "# Preprocess the notes\n",
        "def preprocess_notes(notes):\n",
        "    processed_notes = []\n",
        "    for note in notes:\n",
        "        # Remove non-alphanumeric characters and extra spaces\n",
        "        cleaned_note = re.sub(r'\\W+', ' ', note).strip()\n",
        "        if cleaned_note:  # Only add non-empty notes\n",
        "            processed_notes.append(cleaned_note)\n",
        "    return processed_notes\n",
        "\n",
        "# Preprocess the student notes\n",
        "processed_student_notes = preprocess_notes(student_notes)\n",
        "\n",
        "# Vectorize the processed student notes using TF-IDF\n",
        "def vectorize(notes):\n",
        "    vectorizer = TfidfVectorizer(stop_words='english')\n",
        "    return vectorizer.fit_transform(notes).toarray()\n",
        "\n",
        "try:\n",
        "    vectors = vectorize(processed_student_notes)\n",
        "    student_files = ['file1.txt', 'file2.txt', 'file3.txt', 'file4.txt']  # Dummy filenames\n",
        "    s_vectors = list(zip(student_files, vectors))\n",
        "    plagiarism_results = set()\n",
        "    print(\"Vectorization successful\")\n",
        "except ValueError as e:\n",
        "    print(f\"Error during vectorization: {e}\")\n",
        "\n",
        "# Display the vectors for inspection\n",
        "print(vectors)\n"
      ],
      "metadata": {
        "id": "GF0Vq-xWyzfY",
        "colab": {
          "base_uri": "https://localhost:8080/"
        },
        "outputId": "040c6c7b-dc06-43e9-b263-21cd56488712"
      },
      "execution_count": 12,
      "outputs": [
        {
          "output_type": "stream",
          "name": "stdout",
          "text": [
            "Vectorization successful\n",
            "[[0.         0.         0.70710678 0.         0.70710678 0.        ]\n",
            " [0.         0.         0.70710678 0.         0.70710678 0.        ]\n",
            " [0.5        0.5        0.         0.5        0.         0.5       ]]\n"
          ]
        }
      ]
    },
    {
      "cell_type": "code",
      "source": [
        "# Function to check plagiarism among the student notes\n",
        "def check_plagiarism():\n",
        "    global s_vectors\n",
        "    for student_a, text_vector_a in s_vectors:\n",
        "        new_vectors = s_vectors.copy()\n",
        "        current_index = new_vectors.index((student_a, text_vector_a))\n",
        "        del new_vectors[current_index]\n",
        "        for student_b, text_vector_b in new_vectors:\n",
        "            # Calculate cosine similarity between two text vectors\n",
        "            sim_score = similarity(text_vector_a, text_vector_b)[0][1]\n",
        "            # Sort the student file names alphabetically to avoid duplicates\n",
        "            student_pair = sorted((student_a, student_b))\n",
        "            # Create a tuple with student file names and similarity score\n",
        "            score = (student_pair[0], student_pair[1], sim_score)\n",
        "            # Add the tuple to plagiarism_results set\n",
        "            plagiarism_results.add(score)\n",
        "    return plagiarism_results"
      ],
      "metadata": {
        "id": "W3fomfHXy2In"
      },
      "execution_count": 9,
      "outputs": []
    },
    {
      "cell_type": "code",
      "source": [
        "# Print the plagiarism results\n",
        "for data in check_plagiarism():\n",
        "    print(\"Similarity data:\\n\", data)\n"
      ],
      "metadata": {
        "id": "5mlYaqu9y6xl",
        "outputId": "32f44809-7c60-429f-ce68-bedb1606e729",
        "colab": {
          "base_uri": "https://localhost:8080/"
        }
      },
      "execution_count": 13,
      "outputs": [
        {
          "output_type": "stream",
          "name": "stdout",
          "text": [
            "Similarity data:\n",
            " ('file1.txt', 'file3.txt', 0.0)\n",
            "Similarity data:\n",
            " ('file2.txt', 'file3.txt', 0.0)\n",
            "Similarity data:\n",
            " ('file1.txt', 'file2.txt', 1.0000000000000002)\n"
          ]
        }
      ]
    }
  ]
}